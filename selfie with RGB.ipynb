{
 "cells": [
  {
   "cell_type": "code",
   "execution_count": null,
   "metadata": {},
   "outputs": [],
   "source": [
    "import cv2\n",
    "cap=cv2.VideoCapture(0)\n",
    "while True:\n",
    "    ret,frame=cap.read()\n",
    "    cv2.imshow('camera',frame)\n",
    "    r,g,b=cv2.split(frame)\n",
    "    red=cv2.merge([r,g*0,b*0])\n",
    "    cv2.imshow('red',red)\n",
    "\n",
    "\n",
    "    green=cv2.merge([r*0,g,b*0])\n",
    "    cv2.imshow('green',green)\n",
    "\n",
    "\n",
    "    blue=cv2.merge([r*0,g*0,b])\n",
    "    cv2.imshow('blue',blue)\n",
    "   \n",
    "    if cv2.waitKey():\n",
    "       break\n",
    " \n",
    "cv2.imwrite('R_blue.png',blue)\n",
    "cv2.imwrite('R_red.png',red)\n",
    "cv2.imwrite('R_green.png',green)\n",
    "\n",
    "cap.release()\n",
    "cv2.destroyAllWindows()"
   ]
  },
  {
   "cell_type": "code",
   "execution_count": null,
   "metadata": {},
   "outputs": [],
   "source": []
  }
 ],
 "metadata": {
  "kernelspec": {
   "display_name": "Python 3",
   "language": "python",
   "name": "python3"
  },
  "language_info": {
   "codemirror_mode": {
    "name": "ipython",
    "version": 3
   },
   "file_extension": ".py",
   "mimetype": "text/x-python",
   "name": "python",
   "nbconvert_exporter": "python",
   "pygments_lexer": "ipython3",
   "version": "3.7.4"
  }
 },
 "nbformat": 4,
 "nbformat_minor": 2
}
